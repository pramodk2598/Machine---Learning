{
  "nbformat": 4,
  "nbformat_minor": 0,
  "metadata": {
    "colab": {
      "name": "Sales_Prediction_Model.ipynb",
      "provenance": []
    },
    "kernelspec": {
      "name": "python3",
      "display_name": "Python 3"
    },
    "language_info": {
      "name": "python"
    }
  },
  "cells": [
    {
      "cell_type": "code",
      "execution_count": null,
      "metadata": {
        "id": "2oxO_dGyXq_j"
      },
      "outputs": [],
      "source": [
        "#Importing the libraries\n",
        "import numpy as np\n",
        "import pandas as pd\n",
        "import matplotlib.pyplot as plt\n",
        "import seaborn as sns \n",
        "# import seaborn as sns\n"
      ]
    },
    {
      "cell_type": "code",
      "source": [
        "#Importing the dataset\n",
        "data = pd.read_csv(\"/content/Advertising_data.csv\")\n",
        "data.head()"
      ],
      "metadata": {
        "colab": {
          "base_uri": "https://localhost:8080/",
          "height": 206
        },
        "id": "fyfwlMyoYPPk",
        "outputId": "81fde2e2-a13a-41e9-c039-72e9139e0665"
      },
      "execution_count": null,
      "outputs": [
        {
          "output_type": "execute_result",
          "data": {
            "text/html": [
              "\n",
              "  <div id=\"df-0a0284f1-2d66-451c-8459-e94f278084d8\">\n",
              "    <div class=\"colab-df-container\">\n",
              "      <div>\n",
              "<style scoped>\n",
              "    .dataframe tbody tr th:only-of-type {\n",
              "        vertical-align: middle;\n",
              "    }\n",
              "\n",
              "    .dataframe tbody tr th {\n",
              "        vertical-align: top;\n",
              "    }\n",
              "\n",
              "    .dataframe thead th {\n",
              "        text-align: right;\n",
              "    }\n",
              "</style>\n",
              "<table border=\"1\" class=\"dataframe\">\n",
              "  <thead>\n",
              "    <tr style=\"text-align: right;\">\n",
              "      <th></th>\n",
              "      <th>TV</th>\n",
              "      <th>radio</th>\n",
              "      <th>newspaper</th>\n",
              "      <th>sales</th>\n",
              "    </tr>\n",
              "  </thead>\n",
              "  <tbody>\n",
              "    <tr>\n",
              "      <th>0</th>\n",
              "      <td>230.1</td>\n",
              "      <td>37.8</td>\n",
              "      <td>69.2</td>\n",
              "      <td>2210</td>\n",
              "    </tr>\n",
              "    <tr>\n",
              "      <th>1</th>\n",
              "      <td>44.5</td>\n",
              "      <td>39.3</td>\n",
              "      <td>45.1</td>\n",
              "      <td>1040</td>\n",
              "    </tr>\n",
              "    <tr>\n",
              "      <th>2</th>\n",
              "      <td>17.2</td>\n",
              "      <td>45.9</td>\n",
              "      <td>69.3</td>\n",
              "      <td>930</td>\n",
              "    </tr>\n",
              "    <tr>\n",
              "      <th>3</th>\n",
              "      <td>151.5</td>\n",
              "      <td>41.3</td>\n",
              "      <td>58.5</td>\n",
              "      <td>1850</td>\n",
              "    </tr>\n",
              "    <tr>\n",
              "      <th>4</th>\n",
              "      <td>180.8</td>\n",
              "      <td>10.8</td>\n",
              "      <td>58.4</td>\n",
              "      <td>1290</td>\n",
              "    </tr>\n",
              "  </tbody>\n",
              "</table>\n",
              "</div>\n",
              "      <button class=\"colab-df-convert\" onclick=\"convertToInteractive('df-0a0284f1-2d66-451c-8459-e94f278084d8')\"\n",
              "              title=\"Convert this dataframe to an interactive table.\"\n",
              "              style=\"display:none;\">\n",
              "        \n",
              "  <svg xmlns=\"http://www.w3.org/2000/svg\" height=\"24px\"viewBox=\"0 0 24 24\"\n",
              "       width=\"24px\">\n",
              "    <path d=\"M0 0h24v24H0V0z\" fill=\"none\"/>\n",
              "    <path d=\"M18.56 5.44l.94 2.06.94-2.06 2.06-.94-2.06-.94-.94-2.06-.94 2.06-2.06.94zm-11 1L8.5 8.5l.94-2.06 2.06-.94-2.06-.94L8.5 2.5l-.94 2.06-2.06.94zm10 10l.94 2.06.94-2.06 2.06-.94-2.06-.94-.94-2.06-.94 2.06-2.06.94z\"/><path d=\"M17.41 7.96l-1.37-1.37c-.4-.4-.92-.59-1.43-.59-.52 0-1.04.2-1.43.59L10.3 9.45l-7.72 7.72c-.78.78-.78 2.05 0 2.83L4 21.41c.39.39.9.59 1.41.59.51 0 1.02-.2 1.41-.59l7.78-7.78 2.81-2.81c.8-.78.8-2.07 0-2.86zM5.41 20L4 18.59l7.72-7.72 1.47 1.35L5.41 20z\"/>\n",
              "  </svg>\n",
              "      </button>\n",
              "      \n",
              "  <style>\n",
              "    .colab-df-container {\n",
              "      display:flex;\n",
              "      flex-wrap:wrap;\n",
              "      gap: 12px;\n",
              "    }\n",
              "\n",
              "    .colab-df-convert {\n",
              "      background-color: #E8F0FE;\n",
              "      border: none;\n",
              "      border-radius: 50%;\n",
              "      cursor: pointer;\n",
              "      display: none;\n",
              "      fill: #1967D2;\n",
              "      height: 32px;\n",
              "      padding: 0 0 0 0;\n",
              "      width: 32px;\n",
              "    }\n",
              "\n",
              "    .colab-df-convert:hover {\n",
              "      background-color: #E2EBFA;\n",
              "      box-shadow: 0px 1px 2px rgba(60, 64, 67, 0.3), 0px 1px 3px 1px rgba(60, 64, 67, 0.15);\n",
              "      fill: #174EA6;\n",
              "    }\n",
              "\n",
              "    [theme=dark] .colab-df-convert {\n",
              "      background-color: #3B4455;\n",
              "      fill: #D2E3FC;\n",
              "    }\n",
              "\n",
              "    [theme=dark] .colab-df-convert:hover {\n",
              "      background-color: #434B5C;\n",
              "      box-shadow: 0px 1px 3px 1px rgba(0, 0, 0, 0.15);\n",
              "      filter: drop-shadow(0px 1px 2px rgba(0, 0, 0, 0.3));\n",
              "      fill: #FFFFFF;\n",
              "    }\n",
              "  </style>\n",
              "\n",
              "      <script>\n",
              "        const buttonEl =\n",
              "          document.querySelector('#df-0a0284f1-2d66-451c-8459-e94f278084d8 button.colab-df-convert');\n",
              "        buttonEl.style.display =\n",
              "          google.colab.kernel.accessAllowed ? 'block' : 'none';\n",
              "\n",
              "        async function convertToInteractive(key) {\n",
              "          const element = document.querySelector('#df-0a0284f1-2d66-451c-8459-e94f278084d8');\n",
              "          const dataTable =\n",
              "            await google.colab.kernel.invokeFunction('convertToInteractive',\n",
              "                                                     [key], {});\n",
              "          if (!dataTable) return;\n",
              "\n",
              "          const docLinkHtml = 'Like what you see? Visit the ' +\n",
              "            '<a target=\"_blank\" href=https://colab.research.google.com/notebooks/data_table.ipynb>data table notebook</a>'\n",
              "            + ' to learn more about interactive tables.';\n",
              "          element.innerHTML = '';\n",
              "          dataTable['output_type'] = 'display_data';\n",
              "          await google.colab.output.renderOutput(dataTable, element);\n",
              "          const docLink = document.createElement('div');\n",
              "          docLink.innerHTML = docLinkHtml;\n",
              "          element.appendChild(docLink);\n",
              "        }\n",
              "      </script>\n",
              "    </div>\n",
              "  </div>\n",
              "  "
            ],
            "text/plain": [
              "      TV  radio  newspaper  sales\n",
              "0  230.1   37.8       69.2   2210\n",
              "1   44.5   39.3       45.1   1040\n",
              "2   17.2   45.9       69.3    930\n",
              "3  151.5   41.3       58.5   1850\n",
              "4  180.8   10.8       58.4   1290"
            ]
          },
          "metadata": {},
          "execution_count": 3
        }
      ]
    },
    {
      "cell_type": "markdown",
      "source": [
        "#Simple Linear Regression"
      ],
      "metadata": {
        "id": "FanRad6LY4_M"
      }
    },
    {
      "cell_type": "markdown",
      "source": [
        "###initiating the variables"
      ],
      "metadata": {
        "id": "VKV6S4yQZKR2"
      }
    },
    {
      "cell_type": "code",
      "source": [
        "x = data['TV'].values.reshape(-1,1)\n",
        "y = data['sales'].values.reshape(-1,1)"
      ],
      "metadata": {
        "id": "hZ141rnSZRqN"
      },
      "execution_count": null,
      "outputs": []
    },
    {
      "cell_type": "markdown",
      "source": [
        "#Splitting dataset into training and testing dataset"
      ],
      "metadata": {
        "id": "mO2NXLgOZtef"
      }
    },
    {
      "cell_type": "code",
      "source": [
        "from sklearn.model_selection import train_test_split\n",
        "x_train, x_test, y_train, y_test = train_test_split(x, y, test_size=0.3, random_state=42)\n",
        "x_train"
      ],
      "metadata": {
        "colab": {
          "base_uri": "https://localhost:8080/"
        },
        "id": "x2KeTTxrZ2uz",
        "outputId": "db2ac8d5-7a0b-4542-e3bd-a03b4c1d5e0a"
      },
      "execution_count": null,
      "outputs": [
        {
          "output_type": "execute_result",
          "data": {
            "text/plain": [
              "array([[284.3],\n",
              "       [184.9],\n",
              "       [112.9],\n",
              "       [ 23.8],\n",
              "       [290.7],\n",
              "       [ 19.4],\n",
              "       [293.6],\n",
              "       [ 18.7],\n",
              "       [134.3],\n",
              "       [ 25.6],\n",
              "       [100.4],\n",
              "       [ 80.2],\n",
              "       [188.4],\n",
              "       [177. ],\n",
              "       [125.7],\n",
              "       [209.6],\n",
              "       [142.9],\n",
              "       [184.9],\n",
              "       [222.4],\n",
              "       [241.7],\n",
              "       [ 17.2],\n",
              "       [120.5],\n",
              "       [ 89.7],\n",
              "       [191.1],\n",
              "       [ 75.5],\n",
              "       [193.2],\n",
              "       [ 85.7],\n",
              "       [266.9],\n",
              "       [ 39.5],\n",
              "       [261.3],\n",
              "       [ 13.2],\n",
              "       [193.7],\n",
              "       [296.4],\n",
              "       [265.6],\n",
              "       [214.7],\n",
              "       [149.7],\n",
              "       [131.7],\n",
              "       [ 57.5],\n",
              "       [240.1],\n",
              "       [141.3],\n",
              "       [180.8],\n",
              "       [ 97.2],\n",
              "       [220.5],\n",
              "       [140.3],\n",
              "       [255.4],\n",
              "       [ 96.2],\n",
              "       [ 66.1],\n",
              "       [239.3],\n",
              "       [175.7],\n",
              "       [240.1],\n",
              "       [ 17.9],\n",
              "       [230.1],\n",
              "       [283.6],\n",
              "       [171.3],\n",
              "       [199.1],\n",
              "       [123.1],\n",
              "       [131.1],\n",
              "       [ 25.1],\n",
              "       [163.5],\n",
              "       [248.8],\n",
              "       [202.5],\n",
              "       [ 13.1],\n",
              "       [  4.1],\n",
              "       [ 93.9],\n",
              "       [262.9],\n",
              "       [228.3],\n",
              "       [253.8],\n",
              "       [243.2],\n",
              "       [239.8],\n",
              "       [228. ],\n",
              "       [215.4],\n",
              "       [239.9],\n",
              "       [107.4],\n",
              "       [187.8],\n",
              "       [206.9],\n",
              "       [ 43. ],\n",
              "       [151.5],\n",
              "       [137.9],\n",
              "       [182.6],\n",
              "       [219.8],\n",
              "       [156.6],\n",
              "       [276.7],\n",
              "       [205. ],\n",
              "       [ 66.9],\n",
              "       [ 76.4],\n",
              "       [ 95.7],\n",
              "       [120.2],\n",
              "       [225.8],\n",
              "       [ 28.6],\n",
              "       [ 68.4],\n",
              "       [248.4],\n",
              "       [218.5],\n",
              "       [109.8],\n",
              "       [  8.6],\n",
              "       [ 97.5],\n",
              "       [210.7],\n",
              "       [164.5],\n",
              "       [265.2],\n",
              "       [281.4],\n",
              "       [ 26.8],\n",
              "       [276.9],\n",
              "       [ 36.9],\n",
              "       [206.8],\n",
              "       [287.6],\n",
              "       [102.7],\n",
              "       [262.7],\n",
              "       [ 90.4],\n",
              "       [199.8],\n",
              "       [ 94.2],\n",
              "       [210.8],\n",
              "       [227.2],\n",
              "       [ 88.3],\n",
              "       [237.4],\n",
              "       [136.2],\n",
              "       [172.5],\n",
              "       [ 17.2],\n",
              "       [ 59.6],\n",
              "       [ 74.7],\n",
              "       [149.8],\n",
              "       [166.8],\n",
              "       [ 44.5],\n",
              "       [216.4],\n",
              "       [ 44.7],\n",
              "       [  0.7],\n",
              "       [121. ],\n",
              "       [187.9],\n",
              "       [135.2],\n",
              "       [139.2],\n",
              "       [110.7],\n",
              "       [213.4],\n",
              "       [ 18.8],\n",
              "       [232.1],\n",
              "       [218.4],\n",
              "       [286. ],\n",
              "       [109.8],\n",
              "       [ 25. ],\n",
              "       [204.1],\n",
              "       [217.7],\n",
              "       [165.6],\n",
              "       [280.2]])"
            ]
          },
          "metadata": {},
          "execution_count": 16
        }
      ]
    },
    {
      "cell_type": "markdown",
      "source": [
        "#Fitting linear regression to our training set to train our model"
      ],
      "metadata": {
        "id": "nywaPX0ibPMF"
      }
    },
    {
      "cell_type": "code",
      "source": [
        "from sklearn.linear_model import LinearRegression\n",
        "reg = LinearRegression()\n",
        "reg.fit(x_train, y_train)"
      ],
      "metadata": {
        "colab": {
          "base_uri": "https://localhost:8080/"
        },
        "id": "WI9-BYD3baoP",
        "outputId": "6e333a50-d656-448d-9a19-c8af3fdbfa18"
      },
      "execution_count": null,
      "outputs": [
        {
          "output_type": "execute_result",
          "data": {
            "text/plain": [
              "LinearRegression()"
            ]
          },
          "metadata": {},
          "execution_count": 17
        }
      ]
    },
    {
      "cell_type": "markdown",
      "source": [
        "#Predicting the test set result"
      ],
      "metadata": {
        "id": "c9eLO6vKc1Na"
      }
    },
    {
      "cell_type": "code",
      "source": [
        "y_pred = reg.predict(x_test)\n",
        "#y_pred"
      ],
      "metadata": {
        "id": "rRhS0zVec6pj"
      },
      "execution_count": null,
      "outputs": []
    },
    {
      "cell_type": "markdown",
      "source": [
        "R-squared is a statistical measure that represents the goodness of fit of a regressional model.The ideal value for r-square to 1, the better is the model fitted ."
      ],
      "metadata": {
        "id": "tj9606g0dK1e"
      }
    },
    {
      "cell_type": "code",
      "source": [
        "from sklearn.metrics import r2_score\n",
        "r2_score(y_test, y_pred)"
      ],
      "metadata": {
        "colab": {
          "base_uri": "https://localhost:8080/"
        },
        "id": "TplsLRPVdrRe",
        "outputId": "83171ad1-1f6f-4172-e852-25a3c56db01f"
      },
      "execution_count": null,
      "outputs": [
        {
          "output_type": "execute_result",
          "data": {
            "text/plain": [
              "0.6714477229302764"
            ]
          },
          "metadata": {},
          "execution_count": 26
        }
      ]
    },
    {
      "cell_type": "code",
      "source": [
        "output = reg.predict([[300.06]])\n",
        "output"
      ],
      "metadata": {
        "colab": {
          "base_uri": "https://localhost:8080/"
        },
        "id": "hKEU1X8ed9vi",
        "outputId": "ad62c279-dcf2-49b7-a2f5-5ac996c5f5a2"
      },
      "execution_count": null,
      "outputs": [
        {
          "output_type": "execute_result",
          "data": {
            "text/plain": [
              "array([[2116.45849373]])"
            ]
          },
          "metadata": {},
          "execution_count": 21
        }
      ]
    },
    {
      "cell_type": "code",
      "source": [
        "#intercept\n",
        "reg.intercept_"
      ],
      "metadata": {
        "colab": {
          "base_uri": "https://localhost:8080/"
        },
        "id": "o-1FzK-bgxIX",
        "outputId": "5bf23866-0e53-4b43-d017-4937208c9324"
      },
      "execution_count": null,
      "outputs": [
        {
          "output_type": "execute_result",
          "data": {
            "text/plain": [
              "array([723.94598308])"
            ]
          },
          "metadata": {},
          "execution_count": 22
        }
      ]
    },
    {
      "cell_type": "code",
      "source": [
        "reg.coef_"
      ],
      "metadata": {
        "colab": {
          "base_uri": "https://localhost:8080/"
        },
        "id": "9BF3pfbng6pq",
        "outputId": "9471ba6d-d487-4c41-a84b-d86197179f91"
      },
      "execution_count": null,
      "outputs": [
        {
          "output_type": "execute_result",
          "data": {
            "text/plain": [
              "array([[4.64078021]])"
            ]
          },
          "metadata": {},
          "execution_count": 23
        }
      ]
    },
    {
      "cell_type": "code",
      "source": [
        ""
      ],
      "metadata": {
        "id": "FRZrEhhsjspJ"
      },
      "execution_count": null,
      "outputs": []
    }
  ]
}